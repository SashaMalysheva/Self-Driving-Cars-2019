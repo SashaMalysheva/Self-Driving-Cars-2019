{
 "cells": [
  {
   "cell_type": "code",
   "execution_count": null,
   "metadata": {},
   "outputs": [],
   "source": [
    "!sudo pip install catboost plotly"
   ]
  },
  {
   "cell_type": "markdown",
   "metadata": {},
   "source": [
    "[Данные](https://yadi.sk/d/CBoVCVIxJ2q2cw)"
   ]
  },
  {
   "cell_type": "markdown",
   "metadata": {},
   "source": [
    "# Обработка лидарных данных\n",
    "## Сегментация"
   ]
  },
  {
   "cell_type": "markdown",
   "metadata": {},
   "source": [
    "### Про лидар"
   ]
  },
  {
   "cell_type": "markdown",
   "metadata": {},
   "source": [
    "![](https://realnoevremya.com/uploads/gallery/b9/7e/35d10da899958110.jpg)"
   ]
  },
  {
   "cell_type": "code",
   "execution_count": null,
   "metadata": {},
   "outputs": [],
   "source": [
    "from IPython.lib.display import YouTubeVideo\n",
    "YouTubeVideo('Pa-q5elS_nE')"
   ]
  },
  {
   "cell_type": "markdown",
   "metadata": {},
   "source": [
    "## А что за данные на самом деле\n"
   ]
  },
  {
   "cell_type": "code",
   "execution_count": null,
   "metadata": {},
   "outputs": [],
   "source": [
    "import pandas as pd\n",
    "import numpy as np\n",
    "from matplotlib import pyplot as plt\n",
    "\n",
    "import plotly.offline as py\n",
    "import plotly.figure_factory as ff\n",
    "import plotly.graph_objs as go\n",
    "import tqdm\n",
    "py.init_notebook_mode(connected=True)\n",
    "\n",
    "EQUAL_ASPECT_RATIO_LAYOUT = dict(\n",
    "    margin={\n",
    "        'l': 0,\n",
    "        'r': 0,\n",
    "        'b': 0,\n",
    "        't': 0\n",
    "    }, scene=dict(\n",
    "    aspectmode='data'\n",
    "))\n",
    "\n",
    "\n",
    "def color(x, cmap='Reds'):\n",
    "    cmap = plt.get_cmap(cmap)\n",
    "    x = (x - np.min(x)) / np.max(x)\n",
    "    \n",
    "    return cmap(x)\n",
    "\n",
    "%matplotlib inline"
   ]
  },
  {
   "cell_type": "code",
   "execution_count": null,
   "metadata": {},
   "outputs": [],
   "source": [
    "ds = pd.read_csv('./snow.csv')\n",
    "ds = ds.set_index(['scene_id'])\n",
    "ds.head()"
   ]
  },
  {
   "cell_type": "markdown",
   "metadata": {},
   "source": [
    "* intensity - ???\n",
    "* ring - ???"
   ]
  },
  {
   "cell_type": "markdown",
   "metadata": {},
   "source": [
    "### Кольцо"
   ]
  },
  {
   "cell_type": "markdown",
   "metadata": {},
   "source": [
    "![](https://eckop.com/wp-content/uploads/2018/07/LIDAR_02-1024x366.png)"
   ]
  },
  {
   "cell_type": "code",
   "execution_count": null,
   "metadata": {},
   "outputs": [],
   "source": [
    "scene = ds.loc[0]\n",
    "\n",
    "fig = go.Figure(layout=EQUAL_ASPECT_RATIO_LAYOUT)\n",
    "fig.add_scatter3d(**{\n",
    "    'x': scene.x,\n",
    "    'y': scene.y,\n",
    "    'z': scene.z,\n",
    "    'mode': 'markers',\n",
    "    'marker': {\n",
    "        'size': 1,\n",
    "        'color': color(scene.ring, 'tab20'),\n",
    "    },\n",
    "    'text': scene.ring\n",
    "})\n",
    "\n",
    "py.iplot(fig)\n"
   ]
  },
  {
   "cell_type": "markdown",
   "metadata": {},
   "source": [
    "### Интенсивность"
   ]
  },
  {
   "cell_type": "markdown",
   "metadata": {},
   "source": [
    "![](https://res.mdpi.com/sensors/sensors-15-28099/article_deploy/html/images/sensors-15-28099-g001-1024.png)"
   ]
  },
  {
   "cell_type": "code",
   "execution_count": null,
   "metadata": {},
   "outputs": [],
   "source": [
    "fig = go.Figure(layout=EQUAL_ASPECT_RATIO_LAYOUT)\n",
    "fig.add_scatter3d(**{\n",
    "    'x': scene.x,\n",
    "    'y': scene.y,\n",
    "    'z': scene.z,\n",
    "    'mode': 'markers',\n",
    "    'marker': {\n",
    "        'size': 1,\n",
    "        'color': color(scene.intensity, 'seismic'),\n",
    "    },\n",
    "    'text': scene.intensity\n",
    "})\n",
    "\n",
    "py.iplot(fig)"
   ]
  },
  {
   "cell_type": "code",
   "execution_count": null,
   "metadata": {},
   "outputs": [],
   "source": [
    "scene = ds.loc[1]\n",
    "\n",
    "fig = go.Figure(layout=EQUAL_ASPECT_RATIO_LAYOUT)\n",
    "fig.add_scatter3d(**{\n",
    "    'x': scene.x,\n",
    "    'y': scene.y,\n",
    "    'z': scene.z,\n",
    "    'mode': 'markers',\n",
    "    'marker': {\n",
    "        'size': 1,\n",
    "        'color': color(scene.intensity, 'seismic'),\n",
    "    },\n",
    "    'text': scene.ring\n",
    "})\n",
    "\n",
    "py.iplot(fig)\n"
   ]
  },
  {
   "cell_type": "markdown",
   "metadata": {},
   "source": [
    "# Отфильтруем снег"
   ]
  },
  {
   "cell_type": "markdown",
   "metadata": {},
   "source": [
    "## Эвристикой"
   ]
  },
  {
   "cell_type": "code",
   "execution_count": null,
   "metadata": {},
   "outputs": [],
   "source": [
    "def filter_by_intensity(intensity, limit=3):\n",
    "    # TODO implement\n",
    "\n",
    "filtered_scene = scene[filter_by_intensity(scene.intensity)]\n",
    "\n",
    "\n",
    "fig = go.Figure(layout=EQUAL_ASPECT_RATIO_LAYOUT)\n",
    "fig.add_scatter3d(**{\n",
    "    'x': filtered_scene.x,\n",
    "    'y': filtered_scene.y,\n",
    "    'z': filtered_scene.z,\n",
    "    'mode': 'markers',\n",
    "    'marker': {\n",
    "        'size': 1,\n",
    "        'color': color(filtered_scene.intensity, 'seismic'),\n",
    "    },\n",
    "    'text': scene.ring\n",
    "})\n",
    "\n",
    "py.iplot(fig)"
   ]
  },
  {
   "cell_type": "markdown",
   "metadata": {},
   "source": [
    "Плохо и непонятно, будем учить"
   ]
  },
  {
   "cell_type": "markdown",
   "metadata": {},
   "source": [
    "## Облачные вычисления"
   ]
  },
  {
   "cell_type": "code",
   "execution_count": null,
   "metadata": {},
   "outputs": [],
   "source": [
    "from sklearn.neighbors import KDTree\n",
    "\n",
    "class ComputeFeatures(object):\n",
    "    def __init__(self, r=1.0):\n",
    "        self.xyz = None\n",
    "        self.intensity = None\n",
    "        self.ring = None\n",
    "        self.index = None\n",
    "        self.r = r\n",
    "\n",
    "    def _feature_names(self):\n",
    "        #TODO what features to compute???\n",
    "\n",
    "        \n",
    "    def compute_point_features(self, point_id, neighbours):\n",
    "        \n",
    "        #TODO what features to compute???\n",
    "    \n",
    "    def get_point_neighbours(self, point_id):\n",
    "        return self.index.query_radius(self.xyz[point_id][np.newaxis, :], r=self.r)[0]\n",
    "        \n",
    "    def __call__(self, xyz, intensity, ring):\n",
    "        self.xyz = xyz[:]\n",
    "        self.intensity = intensity[:]\n",
    "        self.ring = ring[:]\n",
    "        \n",
    "        self.index = KDTree(self.xyz)\n",
    "        \n",
    "        features = []\n",
    "        for point_id in range(len(self.xyz)):\n",
    "            neighbours = self.get_point_neighbours(point_id)\n",
    "            features.append(self.compute_point_features(point_id, neighbours))\n",
    "        \n",
    "        \n",
    "        return pd.DataFrame(columns=self._feature_names(), data=features)\n",
    "    \n"
   ]
  },
  {
   "cell_type": "code",
   "execution_count": null,
   "metadata": {},
   "outputs": [],
   "source": [
    "# ds_features = pd.read_csv('./snow_features.csv')\n",
    "# ds_features = ds_features.drop([\"Unnamed: 0\"], axis=1)\n",
    "# ds_features.shape"
   ]
  },
  {
   "cell_type": "code",
   "execution_count": null,
   "metadata": {},
   "outputs": [],
   "source": [
    "features = ComputeFeatures(r=1.0)\n",
    "\n",
    "for scene_id in tqdm.tqdm(ds.reset_index().scene_id.unique()):\n",
    "    scene = ds.loc[scene_id]\n",
    "    features_df = \\\n",
    "        features(scene[['x', 'y', 'z']].values, scene.intensity.values, scene.ring.values)\n",
    "    features_df.to_csv('./features/{}.csv'.format(scene_id))"
   ]
  },
  {
   "cell_type": "markdown",
   "metadata": {},
   "source": [
    "# Посмотрим на разметку"
   ]
  },
  {
   "cell_type": "code",
   "execution_count": null,
   "metadata": {},
   "outputs": [],
   "source": [
    "scene = ds.loc[1]\n",
    "\n",
    "fig = go.Figure(layout=EQUAL_ASPECT_RATIO_LAYOUT)\n",
    "fig.add_scatter3d(**{\n",
    "    'x': scene.x,\n",
    "    'y': scene.y,\n",
    "    'z': scene.z,\n",
    "    'mode': 'markers',\n",
    "    'marker': {\n",
    "        'size': 1,\n",
    "        'color': color(scene.label, 'seismic'),\n",
    "    },\n",
    "    'text': scene.label\n",
    "})\n",
    "\n",
    "py.iplot(fig)"
   ]
  },
  {
   "cell_type": "markdown",
   "metadata": {},
   "source": [
    "## Поучим что-нибудь"
   ]
  },
  {
   "cell_type": "code",
   "execution_count": null,
   "metadata": {},
   "outputs": [],
   "source": [
    "\n"
   ]
  },
  {
   "cell_type": "code",
   "execution_count": null,
   "metadata": {},
   "outputs": [],
   "source": [
    "train = None # TODO train test split, but how\n",
    "test = None\n",
    "val = None"
   ]
  },
  {
   "cell_type": "code",
   "execution_count": null,
   "metadata": {},
   "outputs": [],
   "source": [
    "import catboost\n",
    "\n",
    "def learn(X_train, X_val, y_train, y_val):\n",
    "    clf = catboost.CatBoostClassifier(n_estimators=100)\n",
    "    clf.fit(\n",
    "        X_train, y_train, early_stopping_rounds=10,\n",
    "        use_best_model=True, eval_set=(X_val.values, y_val.values), plot=True, verbose=False)\n",
    "    return clf\n",
    "\n",
    "X_train = train.drop([\"scene_id\", \"label\", \"x\", \"y\", \"z\"], axis=1)\n",
    "y_train = train.label\n",
    "\n",
    "\n",
    "X_val = val.drop([\"scene_id\", \"label\", \"x\", \"y\", \"z\"], axis=1)\n",
    "y_val = val.label"
   ]
  },
  {
   "cell_type": "code",
   "execution_count": null,
   "metadata": {},
   "outputs": [],
   "source": [
    "del ds\n",
    "cls = learn(X_train, X_val, y_train, y_val)\n"
   ]
  },
  {
   "cell_type": "code",
   "execution_count": null,
   "metadata": {},
   "outputs": [],
   "source": [
    "X_test = test.drop(['scene_id', 'x', 'y', 'z', 'label'], axis=1)\n",
    "y_test = test.label\n",
    "\n",
    "from sklearn.metrics import precision_recall_curve, precision_score, recall_score\n",
    "\n",
    "def test_one(clf, X_test, y_test):\n",
    "    y_test_hat = clf.predict_proba(X_test)\n",
    "    pr, rec, thr = precision_recall_curve(y_test, y_test_hat[:, 1])\n",
    "    ix = np.linspace(1, len(pr)-1, num=2000).astype(int)\n",
    "    return pr[ix], rec[ix], thr[ix - 1]\n",
    "\n",
    "\n",
    "def heuristic_filter_scoring():\n",
    "    pr = []\n",
    "    rec = []\n",
    "    filter_range = range(1, 10)\n",
    "    for i in filter_range:\n",
    "        y_test_heuristic_hat = np.ones(len(X_test))\n",
    "        y_test_heuristic_hat[filter_by_intensity(test.intensity, i)] = 0\n",
    "        pr.append(precision_score(y_test, y_test_heuristic_hat))\n",
    "        rec.append(recall_score(y_test, y_test_heuristic_hat))\n",
    "        \n",
    "    return pr, rec, filter_range\n",
    "\n",
    "pr_bl, rec_bl, thr_bl = heuristic_filter_scoring()\n",
    "\n",
    "def plot_pr_rec(*models):\n",
    "    traces = []\n",
    "    for model, clf, X_test, y_test in models:\n",
    "        pr, rec, thr = test_one(clf, X_test, y_test)\n",
    "        pr_rec = go.Scattergl(x = rec, y = pr, mode='lines', text=thr, name=model)\n",
    "        traces.append(pr_rec)\n",
    "\n",
    "    pr_rec_bl = go.Scatter(x = rec_bl, y = pr_bl, mode='lines+markers', text=thr_bl, name='Intensity BL')\n",
    "\n",
    "    layout = go.Layout(\n",
    "        title='Precission-recall',\n",
    "        xaxis=dict(\n",
    "            title='Recall'\n",
    "        ),\n",
    "        yaxis=dict(\n",
    "            title='Precission'\n",
    "        ))\n",
    "    fig = go.Figure(\n",
    "        data=traces + [pr_rec_bl],\n",
    "        layout=layout)\n",
    "    py.iplot(fig)\n",
    "    \n",
    "models = [('Catboost classifier', cls, X_test, y_test)]\n",
    "plot_pr_rec(*models)"
   ]
  },
  {
   "cell_type": "markdown",
   "metadata": {},
   "source": [
    "# Повизуализируем"
   ]
  },
  {
   "cell_type": "code",
   "execution_count": null,
   "metadata": {},
   "outputs": [],
   "source": [
    "y_test_hat = cls.predict_proba(test.drop(['scene_id', 'x', 'y', 'z', 'label'], axis=1))"
   ]
  },
  {
   "cell_type": "code",
   "execution_count": null,
   "metadata": {},
   "outputs": [],
   "source": [
    "itest = test.set_index(['scene_id'])"
   ]
  },
  {
   "cell_type": "code",
   "execution_count": null,
   "metadata": {},
   "outputs": [],
   "source": [
    "scene_id = 212\n",
    "scene = itest.loc[scene_id]\n",
    "scene_predictions = y_test_hat[test.scene_id == scene_id][:, 1]\n",
    "\n"
   ]
  },
  {
   "cell_type": "code",
   "execution_count": null,
   "metadata": {},
   "outputs": [],
   "source": [
    "\n",
    "fig = go.Figure(layout=EQUAL_ASPECT_RATIO_LAYOUT)\n",
    "# TODO visualize predictions, error etc.\n",
    "py.iplot(fig)"
   ]
  }
 ],
 "metadata": {
  "kernelspec": {
   "display_name": "Python 2",
   "language": "python",
   "name": "python2"
  },
  "language_info": {
   "codemirror_mode": {
    "name": "ipython",
    "version": 2
   },
   "file_extension": ".py",
   "mimetype": "text/x-python",
   "name": "python",
   "nbconvert_exporter": "python",
   "pygments_lexer": "ipython2",
   "version": "2.7.12"
  }
 },
 "nbformat": 4,
 "nbformat_minor": 2
}